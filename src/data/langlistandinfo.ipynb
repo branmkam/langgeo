{
 "cells": [
  {
   "cell_type": "code",
   "execution_count": 5,
   "id": "4c4a2146",
   "metadata": {
    "scrolled": true
   },
   "outputs": [
    {
     "name": "stdout",
     "output_type": "stream",
     "text": [
      "Collecting deep-translator\n",
      "  Downloading deep_translator-1.11.4-py3-none-any.whl (42 kB)\n",
      "     ---------------------------------------- 0.0/42.3 kB ? eta -:--:--\n",
      "     ---------------------------------------- 42.3/42.3 kB 2.0 MB/s eta 0:00:00\n",
      "Requirement already satisfied: requests<3.0.0,>=2.23.0 in c:\\users\\branmkam\\anaconda3\\lib\\site-packages (from deep-translator) (2.28.2)\n",
      "Requirement already satisfied: beautifulsoup4<5.0.0,>=4.9.1 in c:\\users\\branmkam\\anaconda3\\lib\\site-packages (from deep-translator) (4.11.2)\n",
      "Requirement already satisfied: soupsieve>1.2 in c:\\users\\branmkam\\anaconda3\\lib\\site-packages (from beautifulsoup4<5.0.0,>=4.9.1->deep-translator) (2.3.2.post1)\n",
      "Requirement already satisfied: certifi>=2017.4.17 in c:\\users\\branmkam\\anaconda3\\lib\\site-packages (from requests<3.0.0,>=2.23.0->deep-translator) (2022.12.7)\n",
      "Requirement already satisfied: idna<4,>=2.5 in c:\\users\\branmkam\\anaconda3\\lib\\site-packages (from requests<3.0.0,>=2.23.0->deep-translator) (3.4)\n",
      "Requirement already satisfied: urllib3<1.27,>=1.21.1 in c:\\users\\branmkam\\anaconda3\\lib\\site-packages (from requests<3.0.0,>=2.23.0->deep-translator) (1.26.14)\n",
      "Requirement already satisfied: charset-normalizer<4,>=2 in c:\\users\\branmkam\\anaconda3\\lib\\site-packages (from requests<3.0.0,>=2.23.0->deep-translator) (2.1.1)\n",
      "Installing collected packages: deep-translator\n",
      "Successfully installed deep-translator-1.11.4\n"
     ]
    }
   ],
   "source": [
    "!pip install deep-translator\n",
    "!pip install datapackage"
   ]
  },
  {
   "cell_type": "code",
   "execution_count": 19,
   "id": "c0b1b1b7",
   "metadata": {},
   "outputs": [
    {
     "data": {
      "text/plain": [
       "133"
      ]
     },
     "execution_count": 19,
     "metadata": {},
     "output_type": "execute_result"
    }
   ],
   "source": [
    "langdict = {'afrikaans': 'af', 'albanian': 'sq', 'amharic': 'am', 'arabic': 'ar', 'armenian': 'hy', 'assamese': 'as', 'aymara': 'ay', 'azerbaijani': 'az', 'bambara': 'bm', 'basque': 'eu', 'belarusian': 'be', 'bengali': 'bn', 'bhojpuri': 'bho', 'bosnian': 'bs', 'bulgarian': 'bg', 'catalan': 'ca', 'cebuano': 'ceb', 'chichewa': 'ny', 'chinese (simplified)': 'zh-CN', 'chinese (traditional)': 'zh-TW', 'corsican': 'co', 'croatian': 'hr', 'czech': 'cs', 'danish': 'da', 'dhivehi': 'dv', 'dogri': 'doi', 'dutch': 'nl', 'english': 'en', 'esperanto': 'eo', 'estonian': 'et', 'ewe': 'ee', 'filipino': 'tl', 'finnish': 'fi', 'french': 'fr', 'frisian': 'fy', 'galician': 'gl', 'georgian': 'ka', 'german': 'de', 'greek': 'el', 'guarani': 'gn', 'gujarati': 'gu', 'haitian creole': 'ht', 'hausa': 'ha', 'hawaiian': 'haw', 'hebrew': 'iw', 'hindi': 'hi', 'hmong': 'hmn', 'hungarian': 'hu', 'icelandic': 'is', 'igbo': 'ig', 'ilocano': 'ilo', 'indonesian': 'id', 'irish': 'ga', 'italian': 'it', 'japanese': 'ja', 'javanese': 'jw', 'kannada': 'kn', 'kazakh': 'kk', 'khmer': 'km', 'kinyarwanda': 'rw', 'konkani': 'gom', 'korean': 'ko', 'krio': 'kri', 'kurdish (kurmanji)': 'ku', 'kurdish (sorani)': 'ckb', 'kyrgyz': 'ky', 'lao': 'lo', 'latin': 'la', 'latvian': 'lv', 'lingala': 'ln', 'lithuanian': 'lt', 'luganda': 'lg', 'luxembourgish': 'lb', 'macedonian': 'mk', 'maithili': 'mai', 'malagasy': 'mg', 'malay': 'ms', 'malayalam': 'ml', 'maltese': 'mt', 'maori': 'mi', 'marathi': 'mr', 'meiteilon (manipuri)': 'mni-Mtei', 'mizo': 'lus', 'mongolian': 'mn', 'myanmar': 'my', 'nepali': 'ne', 'norwegian': 'no', 'odia (oriya)': 'or', 'oromo': 'om', 'pashto': 'ps', 'persian': 'fa', 'polish': 'pl', 'portuguese': 'pt', 'punjabi': 'pa', 'quechua': 'qu', 'romanian': 'ro', 'russian': 'ru', 'samoan': 'sm', 'sanskrit': 'sa', 'scots gaelic': 'gd', 'sepedi': 'nso', 'serbian': 'sr', 'sesotho': 'st', 'shona': 'sn', 'sindhi': 'sd', 'sinhala': 'si', 'slovak': 'sk', 'slovenian': 'sl', 'somali': 'so', 'spanish': 'es', 'sundanese': 'su', 'swahili': 'sw', 'swedish': 'sv', 'tajik': 'tg', 'tamil': 'ta', 'tatar': 'tt', 'telugu': 'te', 'thai': 'th', 'tigrinya': 'ti', 'tsonga': 'ts', 'turkish': 'tr', 'turkmen': 'tk', 'twi': 'ak', 'ukrainian': 'uk', 'urdu': 'ur', 'uyghur': 'ug', 'uzbek': 'uz', 'vietnamese': 'vi', 'welsh': 'cy', 'xhosa': 'xh', 'yiddish': 'yi', 'yoruba': 'yo', 'zulu': 'zu'}\n",
    "len(langdict)"
   ]
  },
  {
   "cell_type": "code",
   "execution_count": 7,
   "id": "210854b6",
   "metadata": {},
   "outputs": [],
   "source": [
    "import deep_translator as dt\n",
    "import pandas as pd"
   ]
  },
  {
   "cell_type": "code",
   "execution_count": 15,
   "id": "7c39a8a5",
   "metadata": {},
   "outputs": [],
   "source": [
    "geo = pd.read_csv('speakers.csv').drop(columns=['country'])"
   ]
  },
  {
   "cell_type": "code",
   "execution_count": 52,
   "id": "cce1cb61",
   "metadata": {
    "scrolled": false
   },
   "outputs": [
    {
     "data": {
      "text/html": [
       "<div>\n",
       "<style scoped>\n",
       "    .dataframe tbody tr th:only-of-type {\n",
       "        vertical-align: middle;\n",
       "    }\n",
       "\n",
       "    .dataframe tbody tr th {\n",
       "        vertical-align: top;\n",
       "    }\n",
       "\n",
       "    .dataframe thead th {\n",
       "        text-align: right;\n",
       "    }\n",
       "</style>\n",
       "<table border=\"1\" class=\"dataframe\">\n",
       "  <thead>\n",
       "    <tr style=\"text-align: right;\">\n",
       "      <th></th>\n",
       "      <th>langLabel</th>\n",
       "      <th>code</th>\n",
       "      <th>countryLabel</th>\n",
       "      <th>speakers</th>\n",
       "    </tr>\n",
       "  </thead>\n",
       "  <tbody>\n",
       "    <tr>\n",
       "      <th>af</th>\n",
       "      <td>Afrikaans</td>\n",
       "      <td>af</td>\n",
       "      <td>Botswana,South Africa,Namibia</td>\n",
       "      <td>10300000</td>\n",
       "    </tr>\n",
       "    <tr>\n",
       "      <th>ar</th>\n",
       "      <td>Arabic</td>\n",
       "      <td>ar</td>\n",
       "      <td>Chad,Morocco,Egypt,Oman,Syria,Yemen,Qatar,Maur...</td>\n",
       "      <td>315421300</td>\n",
       "    </tr>\n",
       "    <tr>\n",
       "      <th>as</th>\n",
       "      <td>Assamese</td>\n",
       "      <td>as</td>\n",
       "      <td>India</td>\n",
       "      <td>15300000</td>\n",
       "    </tr>\n",
       "    <tr>\n",
       "      <th>ay</th>\n",
       "      <td>Aymara</td>\n",
       "      <td>ay</td>\n",
       "      <td>Chile,Peru,Bolivia</td>\n",
       "      <td>4000000</td>\n",
       "    </tr>\n",
       "    <tr>\n",
       "      <th>az</th>\n",
       "      <td>Azerbaijani</td>\n",
       "      <td>az</td>\n",
       "      <td>United States of America,Kazakhstan,Iraq,Kyrgy...</td>\n",
       "      <td>23000000</td>\n",
       "    </tr>\n",
       "    <tr>\n",
       "      <th>...</th>\n",
       "      <td>...</td>\n",
       "      <td>...</td>\n",
       "      <td>...</td>\n",
       "      <td>...</td>\n",
       "    </tr>\n",
       "    <tr>\n",
       "      <th>cy</th>\n",
       "      <td>Welsh</td>\n",
       "      <td>cy</td>\n",
       "      <td>United Kingdom,Argentina</td>\n",
       "      <td>724000</td>\n",
       "    </tr>\n",
       "    <tr>\n",
       "      <th>xh</th>\n",
       "      <td>Xhosa</td>\n",
       "      <td>xh</td>\n",
       "      <td>Lesotho,Zimbabwe,South Africa</td>\n",
       "      <td>8177300</td>\n",
       "    </tr>\n",
       "    <tr>\n",
       "      <th>yi</th>\n",
       "      <td>Yiddish</td>\n",
       "      <td>yi</td>\n",
       "      <td>Argentina,Russia,Belarus,Hungary,Netherlands,F...</td>\n",
       "      <td>1000000</td>\n",
       "    </tr>\n",
       "    <tr>\n",
       "      <th>yo</th>\n",
       "      <td>Yoruba</td>\n",
       "      <td>yo</td>\n",
       "      <td>Nigeria,Benin,Togo</td>\n",
       "      <td>37800000</td>\n",
       "    </tr>\n",
       "    <tr>\n",
       "      <th>zu</th>\n",
       "      <td>Zulu</td>\n",
       "      <td>zu</td>\n",
       "      <td>South Africa,Mozambique,Lesotho</td>\n",
       "      <td>12100000</td>\n",
       "    </tr>\n",
       "  </tbody>\n",
       "</table>\n",
       "<p>88 rows × 4 columns</p>\n",
       "</div>"
      ],
      "text/plain": [
       "      langLabel code                                       countryLabel  \\\n",
       "af    Afrikaans   af                      Botswana,South Africa,Namibia   \n",
       "ar       Arabic   ar  Chad,Morocco,Egypt,Oman,Syria,Yemen,Qatar,Maur...   \n",
       "as     Assamese   as                                              India   \n",
       "ay       Aymara   ay                                 Chile,Peru,Bolivia   \n",
       "az  Azerbaijani   az  United States of America,Kazakhstan,Iraq,Kyrgy...   \n",
       "..          ...  ...                                                ...   \n",
       "cy        Welsh   cy                           United Kingdom,Argentina   \n",
       "xh        Xhosa   xh                      Lesotho,Zimbabwe,South Africa   \n",
       "yi      Yiddish   yi  Argentina,Russia,Belarus,Hungary,Netherlands,F...   \n",
       "yo       Yoruba   yo                                 Nigeria,Benin,Togo   \n",
       "zu         Zulu   zu                    South Africa,Mozambique,Lesotho   \n",
       "\n",
       "     speakers  \n",
       "af   10300000  \n",
       "ar  315421300  \n",
       "as   15300000  \n",
       "ay    4000000  \n",
       "az   23000000  \n",
       "..        ...  \n",
       "cy     724000  \n",
       "xh    8177300  \n",
       "yi    1000000  \n",
       "yo   37800000  \n",
       "zu   12100000  \n",
       "\n",
       "[88 rows x 4 columns]"
      ]
     },
     "execution_count": 52,
     "metadata": {},
     "output_type": "execute_result"
    }
   ],
   "source": [
    "langlist = list(geo['code'].unique())\n",
    "suplang = [x for x in langdict.values() if x in langlist]\n",
    "\n",
    "df = pd.DataFrame(columns = geo.columns)\n",
    "#\n",
    "for code in suplang:\n",
    "    codes = geo[geo['code'] == code]\n",
    "    l = [list(codes[c].unique()) for c in codes.columns]\n",
    "    l[0] = l[0][0]\n",
    "    l[1] = l[1][0]\n",
    "    l[2] = ','.join(l[2])\n",
    "    l[3] = max(l[3])\n",
    "    df.loc[code] = l\n",
    "\n",
    "df"
   ]
  },
  {
   "cell_type": "code",
   "execution_count": 65,
   "id": "7add22ff",
   "metadata": {},
   "outputs": [],
   "source": [
    "df.to_csv('langs.csv')"
   ]
  },
  {
   "cell_type": "code",
   "execution_count": 53,
   "id": "98a58374",
   "metadata": {},
   "outputs": [
    {
     "data": {
      "text/plain": [
       "'Beth sydd i fyny'"
      ]
     },
     "execution_count": 53,
     "metadata": {},
     "output_type": "execute_result"
    }
   ],
   "source": [
    "dt.GoogleTranslator(source='en', target='cy').translate(text='whats up')"
   ]
  },
  {
   "cell_type": "code",
   "execution_count": 63,
   "id": "806169d0",
   "metadata": {},
   "outputs": [
    {
     "ename": "TypeError",
     "evalue": "'Package' object is not subscriptable",
     "output_type": "error",
     "traceback": [
      "\u001b[1;31m---------------------------------------------------------------------------\u001b[0m",
      "\u001b[1;31mTypeError\u001b[0m                                 Traceback (most recent call last)",
      "\u001b[1;32m~\\AppData\\Local\\Temp\\ipykernel_17360\\986541424.py\u001b[0m in \u001b[0;36m<cell line: 8>\u001b[1;34m()\u001b[0m\n\u001b[0;32m      6\u001b[0m \u001b[1;31m# to load Data Package into storage\u001b[0m\u001b[1;33m\u001b[0m\u001b[1;33m\u001b[0m\u001b[0m\n\u001b[0;32m      7\u001b[0m \u001b[0mpackage\u001b[0m \u001b[1;33m=\u001b[0m \u001b[0mdatapackage\u001b[0m\u001b[1;33m.\u001b[0m\u001b[0mPackage\u001b[0m\u001b[1;33m(\u001b[0m\u001b[0mdata_url\u001b[0m\u001b[1;33m)\u001b[0m\u001b[1;33m\u001b[0m\u001b[1;33m\u001b[0m\u001b[0m\n\u001b[1;32m----> 8\u001b[1;33m \u001b[0mprint\u001b[0m\u001b[1;33m(\u001b[0m\u001b[0mpackage\u001b[0m\u001b[1;33m[\u001b[0m\u001b[1;34m'countries'\u001b[0m\u001b[1;33m]\u001b[0m\u001b[1;33m)\u001b[0m\u001b[1;33m\u001b[0m\u001b[1;33m\u001b[0m\u001b[0m\n\u001b[0m\u001b[0;32m      9\u001b[0m \u001b[1;33m\u001b[0m\u001b[0m\n\u001b[0;32m     10\u001b[0m \u001b[1;31m# to load only tabular data\u001b[0m\u001b[1;33m\u001b[0m\u001b[1;33m\u001b[0m\u001b[0m\n",
      "\u001b[1;31mTypeError\u001b[0m: 'Package' object is not subscriptable"
     ]
    }
   ],
   "source": [
    "import datapackage\n",
    "import pandas as pd\n",
    "\n",
    "data_url = 'https://datahub.io/core/geo-countries/datapackage.json'\n",
    "\n",
    "# to load Data Package into storage\n",
    "package = datapackage.Package(data_url)\n",
    "print(package['countries'])\n",
    "\n",
    "# to load only tabular data\n",
    "resources = package.resources\n",
    "for resource in resources:\n",
    "    print(str(resource))\n",
    "    if resource.tabular:\n",
    "        data = pd.read_csv(resource.descriptor['path'])\n",
    "        print(data)"
   ]
  },
  {
   "cell_type": "code",
   "execution_count": null,
   "id": "3c5e0b37",
   "metadata": {},
   "outputs": [],
   "source": []
  }
 ],
 "metadata": {
  "kernelspec": {
   "display_name": "Python 3 (ipykernel)",
   "language": "python",
   "name": "python3"
  },
  "language_info": {
   "codemirror_mode": {
    "name": "ipython",
    "version": 3
   },
   "file_extension": ".py",
   "mimetype": "text/x-python",
   "name": "python",
   "nbconvert_exporter": "python",
   "pygments_lexer": "ipython3",
   "version": "3.9.7"
  }
 },
 "nbformat": 4,
 "nbformat_minor": 5
}
